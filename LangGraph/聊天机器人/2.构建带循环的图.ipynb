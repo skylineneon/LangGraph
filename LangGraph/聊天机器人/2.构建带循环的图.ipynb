{
 "cells": [
  {
   "cell_type": "code",
   "execution_count": 9,
   "metadata": {},
   "outputs": [],
   "source": [
    "from typing_extensions import TypedDict\n",
    "from langgraph.graph import StateGraph,START,END\n",
    "#状态\n",
    "# {\"foo\":1}\n",
    "class State(TypedDict):\n",
    "    foo:int\n",
    "# 创建代理-Agent\n",
    "def agent_01(state):\n",
    "    new_state={\"foo\":state[\"foo\"]+1}\n",
    "    return new_state\n",
    "# 定义循环条件\n",
    "def cond_edge(state):\n",
    "    if state[\"foo\"]<3:\n",
    "        return \"node_01\"\n",
    "    else:\n",
    "        return END\n",
    "# 构建图\n",
    "_buider=StateGraph(State)\n",
    "\n",
    "# 创建节点\n",
    "_buider.add_node(\"node_01\",agent_01)\n",
    "\n",
    "# 创建边(普通边)\n",
    "_buider.add_edge(START,\"node_01\")\n",
    "# 条件边\n",
    "_buider.add_conditional_edges(\"node_01\",cond_edge,[\"node_01\",END])\n",
    "\n",
    "# 编译图,即生成图\n",
    "_graph=_buider.compile()"
   ]
  },
  {
   "cell_type": "code",
   "execution_count": 10,
   "metadata": {},
   "outputs": [
    {
     "data": {
      "image/jpeg": "[encoded data removed]",
      "text/plain": [
       "<IPython.core.display.Image object>"
      ]
     },
     "metadata": {},
     "output_type": "display_data"
    }
   ],
   "source": [
    "from IPython.display import display,Image\n",
    "\n",
    "display(Image(_graph.get_graph().draw_mermaid_png()))"
   ]
  },
  {
   "cell_type": "code",
   "execution_count": 4,
   "metadata": {},
   "outputs": [
    {
     "data": {
      "text/plain": [
       "{'foo': 3}"
      ]
     },
     "execution_count": 4,
     "metadata": {},
     "output_type": "execute_result"
    }
   ],
   "source": [
    "_graph.invoke({\"foo\":0})"
   ]
  }
 ],
 "metadata": {
  "kernelspec": {
   "display_name": "py310",
   "language": "python",
   "name": "python3"
  },
  "language_info": {
   "codemirror_mode": {
    "name": "ipython",
    "version": 3
   },
   "file_extension": ".py",
   "mimetype": "text/x-python",
   "name": "python",
   "nbconvert_exporter": "python",
   "pygments_lexer": "ipython3",
   "version": "3.10.14"
  }
 },
 "nbformat": 4,
 "nbformat_minor": 2
}
