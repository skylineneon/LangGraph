{
 "cells": [
  {
   "cell_type": "code",
   "execution_count": 1,
   "metadata": {},
   "outputs": [],
   "source": [
    "from langgraph.graph import StateGraph,START,END\n",
    "from langgraph.graph.message import MessagesState,MessageGraph # 消息也是一种状态\n",
    "from langchain_core.messages import HumanMessage\n",
    "# 如果要增加一些字段，定义自己的Message ,继承MessageState\n",
    "class MyMessagesState(MessagesState):\n",
    "    # 增加foo字段\n",
    "    foo:int\n",
    "\n",
    "def agent_01(state):\n",
    "    return {\"messages\":[(\"human\",\"world\")],\"foo\":2}\n",
    "\n",
    "_buider = StateGraph(MyMessagesState)\n",
    "\n",
    "_buider.add_node(\"node_01\", agent_01)\n",
    "\n",
    "_buider.add_edge(START,\"node_01\")\n",
    "_buider.add_edge(\"node_01\",END)\n",
    "\n",
    "\n",
    "_graph = _buider.compile()"
   ]
  },
  {
   "cell_type": "markdown",
   "metadata": {},
   "source": [
    "##### 叠加消息"
   ]
  },
  {
   "cell_type": "code",
   "execution_count": 2,
   "metadata": {},
   "outputs": [
    {
     "data": {
      "text/plain": [
       "{'messages': [HumanMessage(content='hello', additional_kwargs={}, response_metadata={}, id='5a1b54a8-1958-47c7-ba03-bea2cdbd40f7'),\n",
       "  HumanMessage(content='world', additional_kwargs={}, response_metadata={}, id='40c97d2c-7577-436e-a285-eb09c28d2ba7')],\n",
       " 'foo': 2}"
      ]
     },
     "execution_count": 2,
     "metadata": {},
     "output_type": "execute_result"
    }
   ],
   "source": [
    "_graph.invoke({\"messages\":[HumanMessage(\"hello\")],\"foo\":0})"
   ]
  }
 ],
 "metadata": {
  "kernelspec": {
   "display_name": "py310",
   "language": "python",
   "name": "python3"
  },
  "language_info": {
   "codemirror_mode": {
    "name": "ipython",
    "version": 3
   },
   "file_extension": ".py",
   "mimetype": "text/x-python",
   "name": "python",
   "nbconvert_exporter": "python",
   "pygments_lexer": "ipython3",
   "version": "3.10.14"
  }
 },
 "nbformat": 4,
 "nbformat_minor": 2
}
