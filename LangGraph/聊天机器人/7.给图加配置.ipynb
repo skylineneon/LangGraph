{
 "cells": [
  {
   "cell_type": "code",
   "execution_count": 85,
   "metadata": {},
   "outputs": [],
   "source": [
    "from typing import Annotated\n",
    "from langgraph.graph import StateGraph,START,END\n",
    "from typing_extensions import TypedDict\n",
    "from operator import add\n",
    "from langgraph.checkpoint.memory import MemorySaver\n",
    "\n",
    "# {\"foo\":[1]}\n",
    "\n",
    "\n",
    "class State(TypedDict):\n",
    "    # 自定义的归约\n",
    "    # foo: Annotated[list[int],lambda x,y:x+y]\n",
    "    # 做归约，改为追加而不是覆盖\n",
    "    foo: Annotated[list[int],add]\n",
    "    \n",
    "\n",
    "\n",
    "def agent_01(state,config):\n",
    "\n",
    "    new_state = {\"foo\":[state[\"foo\"][-1]+1]}\n",
    "    return new_state\n",
    "\n",
    "_buider = StateGraph(State)\n",
    "\n",
    "_buider.add_node(\"node_01\", agent_01)\n",
    "_buider.add_edge(START,\"node_01\")\n",
    "_buider.add_edge(\"node_01\",END)\n",
    "\n",
    "# 加入记忆,必须要同一个进程\n",
    "_memory=MemorySaver()\n",
    "_graph = _buider.compile(checkpointer=_memory)"
   ]
  },
  {
   "cell_type": "markdown",
   "metadata": {},
   "source": [
    "##### 设置配置"
   ]
  },
  {
   "cell_type": "code",
   "execution_count": 88,
   "metadata": {},
   "outputs": [
    {
     "data": {
      "text/plain": [
       "{'foo': [5, 6, 5, 6]}"
      ]
     },
     "execution_count": 88,
     "metadata": {},
     "output_type": "execute_result"
    }
   ],
   "source": [
    "# 线程、递归限制（2以上）\n",
    "_configurable={\"thread_id\":\"2\",\"recursion_limit\":2,\"configurable\":{\"session_id\":\"1\"}}\n",
    "_graph.invoke({\"foo\":[5]},config=_configurable)"
   ]
  },
  {
   "cell_type": "code",
   "execution_count": 90,
   "metadata": {},
   "outputs": [
    {
     "data": {
      "text/plain": [
       "{'foo': [5, 6, 5, 6, 6, 6, 8, 6]}"
      ]
     },
     "execution_count": 90,
     "metadata": {},
     "output_type": "execute_result"
    }
   ],
   "source": [
    "# _configurable={\"thread_id\":\"2\",\"recursion_limit\":2,\"configurable\":{\"session_id\":\"2\"}}\n",
    "_graph.invoke({\"foo\":[8]},config=_configurable)"
   ]
  }
 ],
 "metadata": {
  "kernelspec": {
   "display_name": "py310",
   "language": "python",
   "name": "python3"
  },
  "language_info": {
   "codemirror_mode": {
    "name": "ipython",
    "version": 3
   },
   "file_extension": ".py",
   "mimetype": "text/x-python",
   "name": "python",
   "nbconvert_exporter": "python",
   "pygments_lexer": "ipython3",
   "version": "3.10.14"
  }
 },
 "nbformat": 4,
 "nbformat_minor": 2
}
