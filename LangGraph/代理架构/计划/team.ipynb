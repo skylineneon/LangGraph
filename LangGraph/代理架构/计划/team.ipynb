{
 "cells": [
  {
   "cell_type": "code",
   "execution_count": 9,
   "metadata": {},
   "outputs": [],
   "source": [
    "from langchain_openai import ChatOpenAI\n",
    "\n",
    "_llm = ChatOpenAI(\n",
    "    base_url=\"http://58.34.49.226:11046/v1\",\n",
    "    model=\"qwen2.5:7b\",\n",
    "    api_key=\"ollama\"\n",
    ")"
   ]
  },
  {
   "cell_type": "code",
   "execution_count": 10,
   "metadata": {},
   "outputs": [],
   "source": [
    "from planner import Planner\n",
    "from executor import Executor\n",
    "from gatherer import Gatherer\n",
    "\n",
    "_planner = Planner(_llm)\n",
    "_executor = Executor(_llm)\n",
    "_gatherer = Gatherer(_llm)"
   ]
  },
  {
   "cell_type": "code",
   "execution_count": 11,
   "metadata": {},
   "outputs": [],
   "source": [
    "from typing_extensions import TypedDict\n",
    "from typing import List,Annotated\n",
    "from operator import add\n",
    "\n",
    "class PlanState(TypedDict):\n",
    "    query:str\n",
    "    task_list:List[str]\n",
    "    infos:Annotated[List[str],add]\n",
    "    result:str"
   ]
  },
  {
   "cell_type": "code",
   "execution_count": 12,
   "metadata": {},
   "outputs": [],
   "source": [
    "def _planner_node(state):\n",
    "    _rt = _planner(state)\n",
    "    return _rt"
   ]
  },
  {
   "cell_type": "code",
   "execution_count": 13,
   "metadata": {},
   "outputs": [],
   "source": [
    "def _executor_node(state):\n",
    "    _infos = state.get(\"infos\",[])\n",
    "    _task_index = len(_infos)\n",
    "    _task = state[\"task_list\"][_task_index]\n",
    "\n",
    "    _rt = _executor({\n",
    "        \"infos\":_infos,\n",
    "        \"task\":_task\n",
    "    })\n",
    "\n",
    "    return {\"infos\":[_rt]}"
   ]
  },
  {
   "cell_type": "code",
   "execution_count": 14,
   "metadata": {},
   "outputs": [],
   "source": [
    "def _gatherer_node(state):\n",
    "    _infos = state[\"infos\"]\n",
    "    _query = state[\"query\"]\n",
    "\n",
    "    _rt = _gatherer({\n",
    "        \"infos\":_infos,\n",
    "        \"query\":_query\n",
    "    })\n",
    "\n",
    "    return {\"result\":_rt}"
   ]
  },
  {
   "cell_type": "code",
   "execution_count": 15,
   "metadata": {},
   "outputs": [],
   "source": [
    "def _executor_router(state):\n",
    "    _task_len = len(state[\"task_list\"])\n",
    "    _infos = len(state[\"infos\"])\n",
    "\n",
    "    if _task_len == _infos:\n",
    "        return \"_gatherer_node\"\n",
    "    else:\n",
    "        return \"_executor_node\""
   ]
  },
  {
   "cell_type": "code",
   "execution_count": 16,
   "metadata": {},
   "outputs": [],
   "source": [
    "from langgraph.graph import StateGraph,START,END\n",
    "_builder = StateGraph(PlanState)\n",
    "\n",
    "_builder.add_node(\"_planner_node\",_planner_node)\n",
    "_builder.add_node(\"_executor_node\",_executor_node)\n",
    "_builder.add_node(\"_gatherer_node\",_gatherer_node)\n",
    "\n",
    "_builder.add_edge(START,\"_planner_node\")\n",
    "_builder.add_edge(\"_planner_node\",\"_executor_node\")\n",
    "_builder.add_conditional_edges(\"_executor_node\",_executor_router,{\"_gatherer_node\":\"_gatherer_node\",\"_executor_node\":\"_executor_node\"})\n",
    "_builder.add_edge(\"_gatherer_node\",END)\n",
    "\n",
    "_graph = _builder.compile()\n"
   ]
  },
  {
   "cell_type": "code",
   "execution_count": 17,
   "metadata": {},
   "outputs": [
    {
     "data": {
      "image/jpeg": "[encoded data removed]",
      "text/plain": [
       "<IPython.core.display.Image object>"
      ]
     },
     "metadata": {},
     "output_type": "display_data"
    }
   ],
   "source": [
    "from IPython.display import display,Image\n",
    "\n",
    "display(Image(_graph.get_graph().draw_mermaid_png()))"
   ]
  },
  {
   "cell_type": "code",
   "execution_count": 20,
   "metadata": {},
   "outputs": [
    {
     "name": "stdout",
     "output_type": "stream",
     "text": [
      "调用了工具\n",
      "调用了工具\n"
     ]
    },
    {
     "data": {
      "text/plain": [
       "'根据提供的信息，目前无法准确预测2024年法国巴黎奥运会女子10米跳水冠军的具体身份和家乡。但是我们知道陈芋汐出生于中国上海市，并在该地开始了她的体育生涯并取得了优异成绩。因此，如果陈芋汐能够获得金牌，她的家乡就是上海。不过这只是根据现有信息的一个可能情况，实际情况可能会有所不同。'"
      ]
     },
     "execution_count": 20,
     "metadata": {},
     "output_type": "execute_result"
    }
   ],
   "source": [
    "_rt = _graph.invoke({\"query\":\"2024年法国巴黎奥运会女子10米跳水冠军的家乡?\"})\n",
    "_rt[\"result\"]"
   ]
  }
 ],
 "metadata": {
  "kernelspec": {
   "display_name": "py310",
   "language": "python",
   "name": "python3"
  },
  "language_info": {
   "codemirror_mode": {
    "name": "ipython",
    "version": 3
   },
   "file_extension": ".py",
   "mimetype": "text/x-python",
   "name": "python",
   "nbconvert_exporter": "python",
   "pygments_lexer": "ipython3",
   "version": "3.10.14"
  }
 },
 "nbformat": 4,
 "nbformat_minor": 2
}
