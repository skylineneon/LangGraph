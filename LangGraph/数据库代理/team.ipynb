{
 "cells": [
  {
   "cell_type": "code",
   "execution_count": 3,
   "metadata": {},
   "outputs": [],
   "source": [
    "from langchain_openai import ChatOpenAI\n",
    "\n",
    "_llm = ChatOpenAI(\n",
    "    base_url=\"http://192.168.10.13:60001/v1\",\n",
    "    model=\"qwen2.5:7b\",\n",
    "    api_key=\"ollama\"\n",
    ")"
   ]
  },
  {
   "cell_type": "code",
   "execution_count": 4,
   "metadata": {},
   "outputs": [],
   "source": [
    "from table_agent import Table\n",
    "from info_agent import Info\n",
    "from exec_agent import Exec\n",
    "\n",
    "_table = Table(_llm)\n",
    "_info = Info(_llm)\n",
    "_exec = Exec(_llm)"
   ]
  },
  {
   "cell_type": "code",
   "execution_count": 5,
   "metadata": {},
   "outputs": [],
   "source": [
    "from typing_extensions import TypedDict\n",
    "from typing import Annotated\n",
    "from operator import add\n",
    "\n",
    "class DataBaseState(TypedDict):\n",
    "     query:str\n",
    "     table_names:list[str]\n",
    "     infos:Annotated[list[str],add]\n",
    "     table_name:str\n",
    "     result:str\n"
   ]
  },
  {
   "cell_type": "code",
   "execution_count": 6,
   "metadata": {},
   "outputs": [],
   "source": [
    "def _table_node(state):\n",
    "    return _table({})\n"
   ]
  },
  {
   "cell_type": "code",
   "execution_count": 7,
   "metadata": {},
   "outputs": [],
   "source": [
    "def _info_node(state):\n",
    "    _table_name = state[\"table_name\"]\n",
    "    _rt = _info({\"table_name\",_table_name})\n",
    "    return {\"infos\":[_rt]}"
   ]
  },
  {
   "cell_type": "code",
   "execution_count": 8,
   "metadata": {},
   "outputs": [],
   "source": [
    "def _exec_node(state):\n",
    "    _infos = state[\"infos\"]\n",
    "    _query = state[\"query\"]\n",
    "    _rt = _exec({\"query\":_query,\"infos\":_infos})\n",
    "    return {\"result\":_rt}"
   ]
  },
  {
   "cell_type": "code",
   "execution_count": 9,
   "metadata": {},
   "outputs": [],
   "source": [
    "from langgraph.types import Send\n",
    "\n",
    "def _dispatch_table_names(state):\n",
    "    sends = []\n",
    "    for _table_name in state[\"table_names\"]:\n",
    "        sends.append(Send(\"_info_node\",{\"table_name\":_table_name}))\n",
    "    return sends"
   ]
  },
  {
   "cell_type": "code",
   "execution_count": 10,
   "metadata": {},
   "outputs": [],
   "source": [
    "from langgraph.graph import StateGraph,START,END\n",
    "\n",
    "_builder = StateGraph(DataBaseState)\n",
    "\n",
    "_builder.add_node(\"_table_node\",_table_node)\n",
    "_builder.add_node(\"_info_node\",_info_node)\n",
    "_builder.add_node(\"_exec_node\",_exec_node)\n",
    "\n",
    "_builder.add_edge(START,\"_table_node\")\n",
    "_builder.add_conditional_edges(\"_table_node\",_dispatch_table_names)\n",
    "_builder.add_edge(\"_info_node\",\"_exec_node\")\n",
    "_builder.add_edge(\"_exec_node\",END)\n",
    "\n",
    "_graph = _builder.compile()\n",
    "\n"
   ]
  },
  {
   "cell_type": "code",
   "execution_count": 11,
   "metadata": {},
   "outputs": [
    {
     "data": {
      "text/plain": [
       "{'query': '我们公司有多少员工',\n",
       " 'table_names': ['.departments', 'employees'],\n",
       " 'infos': ['',\n",
       "  '根据查询结果，表`employees`的结构如下：\\n\\n- 字段 `id`，整型字段，不是主键（`INTEGER`, not NULL）。\\n- 字段 `name`，文本型字段。\\n- 字段 `age`，整型字段，可能是一个表示年龄的实际年份或虚拟序数（`INTEGER`, 但在这里显示为可能的NULL值; 不是主键，无约束）。\\n- 字段 `gender`，文本型字段.\\n- 字段 `position` ，文本型字段\\n- 字段 `department_id`，整型字段, 不是主键\\n\\n我们获取了所有的信息包括所有字段。需要注意的是，字段类型可能是误报或需要确认如“age”是否应该是一个序数类型的表示年龄。以下是展示该结构的查询结果：\\n- `id` 的数据类型为： Integer; 其主键索引设置为 1（它代表这是一个主键）。\\n- `name` 的数据类型为: Text。\\n- `age` 的列数据类型标记为 Integer ;但需手动检查其具体使用情况(以确认是否需要存储实际年龄或是一个序数等），目前没有约束。\\n- `gender`的 数据型为Text;\\n- `position`的字段的数据类型亦设置为Text，\\n- `department_id` 的数据类型也为 Integer 但是它也不是主键。 \\n\\n此回复不带表名字的原因是因为这个pragma查询只针对列定义，而不包含表名作为其输出。为了给出该信息，你或许期望的是使用“PRAGMA TABLE_INFO”或者类似的技术。表名为 ‘employees’。'],\n",
       " 'result': '我们公司共有22名员工。'}"
      ]
     },
     "execution_count": 11,
     "metadata": {},
     "output_type": "execute_result"
    }
   ],
   "source": [
    "_rt = _graph.invoke({\"query\":\"我们公司员工的平均年龄是多少\"})\n",
    "_rt"
   ]
  }
 ],
 "metadata": {
  "kernelspec": {
   "display_name": "py310",
   "language": "python",
   "name": "python3"
  },
  "language_info": {
   "codemirror_mode": {
    "name": "ipython",
    "version": 3
   },
   "file_extension": ".py",
   "mimetype": "text/x-python",
   "name": "python",
   "nbconvert_exporter": "python",
   "pygments_lexer": "ipython3",
   "version": "3.10.14"
  }
 },
 "nbformat": 4,
 "nbformat_minor": 2
}
